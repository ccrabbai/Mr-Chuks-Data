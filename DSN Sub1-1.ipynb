{
 "cells": [
  {
   "cell_type": "code",
   "execution_count": 1,
   "metadata": {},
   "outputs": [],
   "source": [
    "import pandas as pd\n",
    "import numpy as np\n",
    "import matplotlib.pyplot as plt\n",
    "import seaborn as sns\n",
    "\n",
    "import sklearn.model_selection as ms\n",
    "import sklearn.metrics as sklm\n",
    "from sklearn import preprocessing\n",
    "\n",
    "import numpy.random as nr\n",
    "import scipy.stats as ss\n",
    "import math\n",
    "#import missingno as mn           # For visualizing missing values.\n",
    "from scipy import stats          # For statistics\n",
    "\n",
    "%matplotlib inline"
   ]
  },
  {
   "cell_type": "code",
   "execution_count": 88,
   "metadata": {},
   "outputs": [],
   "source": [
    "'''Customize visualization.'''\n",
    "plt.rcParams['figure.figsize'] = [18,2.5]  # Create all the figure size by this dimension\n",
    "plt.style.use('ggplot')                    # Use ggplot's style for plotting\n",
    "sns.set_style({'axes.grid' : False})       # Removes gridlines"
   ]
  },
  {
   "cell_type": "code",
   "execution_count": 89,
   "metadata": {},
   "outputs": [],
   "source": [
    "'''Displays markdown formatted output like bold, italic bold etc.'''\n",
    "from IPython.display import Markdown\n",
    "def bold(string):\n",
    "    display(Markdown(string))"
   ]
  },
  {
   "cell_type": "code",
   "execution_count": 56,
   "metadata": {},
   "outputs": [],
   "source": [
    "train_data = pd.read_csv('train.csv')\n",
    "test_data = pd.read_csv('test.csv')"
   ]
  },
  {
   "cell_type": "code",
   "execution_count": 5,
   "metadata": {},
   "outputs": [
    {
     "data": {
      "text/markdown": [
       "**Train data:**"
      ],
      "text/plain": [
       "<IPython.core.display.Markdown object>"
      ]
     },
     "metadata": {},
     "output_type": "display_data"
    },
    {
     "data": {
      "text/html": [
       "<div>\n",
       "<style scoped>\n",
       "    .dataframe tbody tr th:only-of-type {\n",
       "        vertical-align: middle;\n",
       "    }\n",
       "\n",
       "    .dataframe tbody tr th {\n",
       "        vertical-align: top;\n",
       "    }\n",
       "\n",
       "    .dataframe thead th {\n",
       "        text-align: right;\n",
       "    }\n",
       "</style>\n",
       "<table border=\"1\" class=\"dataframe\">\n",
       "  <thead>\n",
       "    <tr style=\"text-align: right;\">\n",
       "      <th></th>\n",
       "      <th>Product_Identifier</th>\n",
       "      <th>Supermarket_Identifier</th>\n",
       "      <th>Product_Supermarket_Identifier</th>\n",
       "      <th>Product_Weight</th>\n",
       "      <th>Product_Fat_Content</th>\n",
       "      <th>Product_Shelf_Visibility</th>\n",
       "      <th>Product_Type</th>\n",
       "      <th>Product_Price</th>\n",
       "      <th>Supermarket_Opening_Year</th>\n",
       "      <th>Supermarket _Size</th>\n",
       "      <th>Supermarket_Location_Type</th>\n",
       "      <th>Supermarket_Type</th>\n",
       "      <th>Product_Supermarket_Sales</th>\n",
       "    </tr>\n",
       "  </thead>\n",
       "  <tbody>\n",
       "    <tr>\n",
       "      <th>0</th>\n",
       "      <td>DRA12</td>\n",
       "      <td>CHUKWUDI010</td>\n",
       "      <td>DRA12_CHUKWUDI010</td>\n",
       "      <td>11.6</td>\n",
       "      <td>Low Fat</td>\n",
       "      <td>0.068535</td>\n",
       "      <td>Soft Drinks</td>\n",
       "      <td>357.54</td>\n",
       "      <td>2005</td>\n",
       "      <td>NaN</td>\n",
       "      <td>Cluster 3</td>\n",
       "      <td>Grocery Store</td>\n",
       "      <td>709.08</td>\n",
       "    </tr>\n",
       "    <tr>\n",
       "      <th>1</th>\n",
       "      <td>DRA12</td>\n",
       "      <td>CHUKWUDI013</td>\n",
       "      <td>DRA12_CHUKWUDI013</td>\n",
       "      <td>11.6</td>\n",
       "      <td>Low Fat</td>\n",
       "      <td>0.040912</td>\n",
       "      <td>Soft Drinks</td>\n",
       "      <td>355.79</td>\n",
       "      <td>1994</td>\n",
       "      <td>High</td>\n",
       "      <td>Cluster 3</td>\n",
       "      <td>Supermarket Type1</td>\n",
       "      <td>6381.69</td>\n",
       "    </tr>\n",
       "    <tr>\n",
       "      <th>2</th>\n",
       "      <td>DRA12</td>\n",
       "      <td>CHUKWUDI017</td>\n",
       "      <td>DRA12_CHUKWUDI017</td>\n",
       "      <td>11.6</td>\n",
       "      <td>Low Fat</td>\n",
       "      <td>0.041178</td>\n",
       "      <td>Soft Drinks</td>\n",
       "      <td>350.79</td>\n",
       "      <td>2014</td>\n",
       "      <td>NaN</td>\n",
       "      <td>Cluster 2</td>\n",
       "      <td>Supermarket Type1</td>\n",
       "      <td>6381.69</td>\n",
       "    </tr>\n",
       "    <tr>\n",
       "      <th>3</th>\n",
       "      <td>DRA12</td>\n",
       "      <td>CHUKWUDI018</td>\n",
       "      <td>DRA12_CHUKWUDI018</td>\n",
       "      <td>11.6</td>\n",
       "      <td>Low Fat</td>\n",
       "      <td>0.041113</td>\n",
       "      <td>Soft Drinks</td>\n",
       "      <td>355.04</td>\n",
       "      <td>2016</td>\n",
       "      <td>Medium</td>\n",
       "      <td>Cluster 3</td>\n",
       "      <td>Supermarket Type2</td>\n",
       "      <td>2127.23</td>\n",
       "    </tr>\n",
       "    <tr>\n",
       "      <th>4</th>\n",
       "      <td>DRA12</td>\n",
       "      <td>CHUKWUDI035</td>\n",
       "      <td>DRA12_CHUKWUDI035</td>\n",
       "      <td>11.6</td>\n",
       "      <td>Ultra Low fat</td>\n",
       "      <td>0.000000</td>\n",
       "      <td>Soft Drinks</td>\n",
       "      <td>354.79</td>\n",
       "      <td>2011</td>\n",
       "      <td>Small</td>\n",
       "      <td>Cluster 2</td>\n",
       "      <td>Supermarket Type1</td>\n",
       "      <td>2481.77</td>\n",
       "    </tr>\n",
       "  </tbody>\n",
       "</table>\n",
       "</div>"
      ],
      "text/plain": [
       "  Product_Identifier Supermarket_Identifier Product_Supermarket_Identifier  \\\n",
       "0              DRA12            CHUKWUDI010              DRA12_CHUKWUDI010   \n",
       "1              DRA12            CHUKWUDI013              DRA12_CHUKWUDI013   \n",
       "2              DRA12            CHUKWUDI017              DRA12_CHUKWUDI017   \n",
       "3              DRA12            CHUKWUDI018              DRA12_CHUKWUDI018   \n",
       "4              DRA12            CHUKWUDI035              DRA12_CHUKWUDI035   \n",
       "\n",
       "   Product_Weight Product_Fat_Content  Product_Shelf_Visibility Product_Type  \\\n",
       "0            11.6             Low Fat                  0.068535  Soft Drinks   \n",
       "1            11.6             Low Fat                  0.040912  Soft Drinks   \n",
       "2            11.6             Low Fat                  0.041178  Soft Drinks   \n",
       "3            11.6             Low Fat                  0.041113  Soft Drinks   \n",
       "4            11.6       Ultra Low fat                  0.000000  Soft Drinks   \n",
       "\n",
       "   Product_Price  Supermarket_Opening_Year Supermarket _Size  \\\n",
       "0         357.54                      2005               NaN   \n",
       "1         355.79                      1994              High   \n",
       "2         350.79                      2014               NaN   \n",
       "3         355.04                      2016            Medium   \n",
       "4         354.79                      2011             Small   \n",
       "\n",
       "  Supermarket_Location_Type   Supermarket_Type  Product_Supermarket_Sales  \n",
       "0                 Cluster 3      Grocery Store                     709.08  \n",
       "1                 Cluster 3  Supermarket Type1                    6381.69  \n",
       "2                 Cluster 2  Supermarket Type1                    6381.69  \n",
       "3                 Cluster 3  Supermarket Type2                    2127.23  \n",
       "4                 Cluster 2  Supermarket Type1                    2481.77  "
      ]
     },
     "metadata": {},
     "output_type": "display_data"
    }
   ],
   "source": [
    "bold('**Train data:**')\n",
    "display(train_data.head())"
   ]
  },
  {
   "cell_type": "code",
   "execution_count": 6,
   "metadata": {},
   "outputs": [
    {
     "data": {
      "text/markdown": [
       "**Train data:**"
      ],
      "text/plain": [
       "<IPython.core.display.Markdown object>"
      ]
     },
     "metadata": {},
     "output_type": "display_data"
    },
    {
     "data": {
      "text/html": [
       "<div>\n",
       "<style scoped>\n",
       "    .dataframe tbody tr th:only-of-type {\n",
       "        vertical-align: middle;\n",
       "    }\n",
       "\n",
       "    .dataframe tbody tr th {\n",
       "        vertical-align: top;\n",
       "    }\n",
       "\n",
       "    .dataframe thead th {\n",
       "        text-align: right;\n",
       "    }\n",
       "</style>\n",
       "<table border=\"1\" class=\"dataframe\">\n",
       "  <thead>\n",
       "    <tr style=\"text-align: right;\">\n",
       "      <th></th>\n",
       "      <th>Product_Identifier</th>\n",
       "      <th>Supermarket_Identifier</th>\n",
       "      <th>Product_Supermarket_Identifier</th>\n",
       "      <th>Product_Weight</th>\n",
       "      <th>Product_Fat_Content</th>\n",
       "      <th>Product_Shelf_Visibility</th>\n",
       "      <th>Product_Type</th>\n",
       "      <th>Product_Price</th>\n",
       "      <th>Supermarket_Opening_Year</th>\n",
       "      <th>Supermarket _Size</th>\n",
       "      <th>Supermarket_Location_Type</th>\n",
       "      <th>Supermarket_Type</th>\n",
       "    </tr>\n",
       "  </thead>\n",
       "  <tbody>\n",
       "    <tr>\n",
       "      <th>0</th>\n",
       "      <td>DRA59</td>\n",
       "      <td>CHUKWUDI010</td>\n",
       "      <td>DRA59_CHUKWUDI010</td>\n",
       "      <td>8.270</td>\n",
       "      <td>Normal Fat</td>\n",
       "      <td>0.214125</td>\n",
       "      <td>Soft Drinks</td>\n",
       "      <td>459.98</td>\n",
       "      <td>2005</td>\n",
       "      <td>NaN</td>\n",
       "      <td>Cluster 3</td>\n",
       "      <td>Grocery Store</td>\n",
       "    </tr>\n",
       "    <tr>\n",
       "      <th>1</th>\n",
       "      <td>DRA59</td>\n",
       "      <td>CHUKWUDI013</td>\n",
       "      <td>DRA59_CHUKWUDI013</td>\n",
       "      <td>8.270</td>\n",
       "      <td>Normal Fat</td>\n",
       "      <td>0.127821</td>\n",
       "      <td>Soft Drinks</td>\n",
       "      <td>464.98</td>\n",
       "      <td>1994</td>\n",
       "      <td>High</td>\n",
       "      <td>Cluster 3</td>\n",
       "      <td>Supermarket Type1</td>\n",
       "    </tr>\n",
       "    <tr>\n",
       "      <th>2</th>\n",
       "      <td>DRB01</td>\n",
       "      <td>CHUKWUDI013</td>\n",
       "      <td>DRB01_CHUKWUDI013</td>\n",
       "      <td>7.390</td>\n",
       "      <td>Low Fat</td>\n",
       "      <td>0.082171</td>\n",
       "      <td>Soft Drinks</td>\n",
       "      <td>477.38</td>\n",
       "      <td>1994</td>\n",
       "      <td>High</td>\n",
       "      <td>Cluster 3</td>\n",
       "      <td>Supermarket Type1</td>\n",
       "    </tr>\n",
       "    <tr>\n",
       "      <th>3</th>\n",
       "      <td>DRB13</td>\n",
       "      <td>CHUKWUDI010</td>\n",
       "      <td>DRB13_CHUKWUDI010</td>\n",
       "      <td>6.115</td>\n",
       "      <td>Normal Fat</td>\n",
       "      <td>0.011791</td>\n",
       "      <td>Soft Drinks</td>\n",
       "      <td>472.63</td>\n",
       "      <td>2005</td>\n",
       "      <td>NaN</td>\n",
       "      <td>Cluster 3</td>\n",
       "      <td>Grocery Store</td>\n",
       "    </tr>\n",
       "    <tr>\n",
       "      <th>4</th>\n",
       "      <td>DRB13</td>\n",
       "      <td>CHUKWUDI013</td>\n",
       "      <td>DRB13_CHUKWUDI013</td>\n",
       "      <td>6.115</td>\n",
       "      <td>Normal Fat</td>\n",
       "      <td>0.007038</td>\n",
       "      <td>Soft Drinks</td>\n",
       "      <td>473.13</td>\n",
       "      <td>1994</td>\n",
       "      <td>High</td>\n",
       "      <td>Cluster 3</td>\n",
       "      <td>Supermarket Type1</td>\n",
       "    </tr>\n",
       "  </tbody>\n",
       "</table>\n",
       "</div>"
      ],
      "text/plain": [
       "  Product_Identifier Supermarket_Identifier Product_Supermarket_Identifier  \\\n",
       "0              DRA59            CHUKWUDI010              DRA59_CHUKWUDI010   \n",
       "1              DRA59            CHUKWUDI013              DRA59_CHUKWUDI013   \n",
       "2              DRB01            CHUKWUDI013              DRB01_CHUKWUDI013   \n",
       "3              DRB13            CHUKWUDI010              DRB13_CHUKWUDI010   \n",
       "4              DRB13            CHUKWUDI013              DRB13_CHUKWUDI013   \n",
       "\n",
       "   Product_Weight Product_Fat_Content  Product_Shelf_Visibility Product_Type  \\\n",
       "0           8.270          Normal Fat                  0.214125  Soft Drinks   \n",
       "1           8.270          Normal Fat                  0.127821  Soft Drinks   \n",
       "2           7.390             Low Fat                  0.082171  Soft Drinks   \n",
       "3           6.115          Normal Fat                  0.011791  Soft Drinks   \n",
       "4           6.115          Normal Fat                  0.007038  Soft Drinks   \n",
       "\n",
       "   Product_Price  Supermarket_Opening_Year Supermarket _Size  \\\n",
       "0         459.98                      2005               NaN   \n",
       "1         464.98                      1994              High   \n",
       "2         477.38                      1994              High   \n",
       "3         472.63                      2005               NaN   \n",
       "4         473.13                      1994              High   \n",
       "\n",
       "  Supermarket_Location_Type   Supermarket_Type  \n",
       "0                 Cluster 3      Grocery Store  \n",
       "1                 Cluster 3  Supermarket Type1  \n",
       "2                 Cluster 3  Supermarket Type1  \n",
       "3                 Cluster 3      Grocery Store  \n",
       "4                 Cluster 3  Supermarket Type1  "
      ]
     },
     "metadata": {},
     "output_type": "display_data"
    }
   ],
   "source": [
    "bold('**Train data:**')\n",
    "display(test_data.head())"
   ]
  },
  {
   "cell_type": "code",
   "execution_count": 57,
   "metadata": {},
   "outputs": [
    {
     "data": {
      "text/markdown": [
       "**Merged data:**"
      ],
      "text/plain": [
       "<IPython.core.display.Markdown object>"
      ]
     },
     "metadata": {},
     "output_type": "display_data"
    },
    {
     "data": {
      "text/html": [
       "<div>\n",
       "<style scoped>\n",
       "    .dataframe tbody tr th:only-of-type {\n",
       "        vertical-align: middle;\n",
       "    }\n",
       "\n",
       "    .dataframe tbody tr th {\n",
       "        vertical-align: top;\n",
       "    }\n",
       "\n",
       "    .dataframe thead th {\n",
       "        text-align: right;\n",
       "    }\n",
       "</style>\n",
       "<table border=\"1\" class=\"dataframe\">\n",
       "  <thead>\n",
       "    <tr style=\"text-align: right;\">\n",
       "      <th></th>\n",
       "      <th>Product_Fat_Content</th>\n",
       "      <th>Product_Identifier</th>\n",
       "      <th>Product_Price</th>\n",
       "      <th>Product_Shelf_Visibility</th>\n",
       "      <th>Product_Supermarket_Identifier</th>\n",
       "      <th>Product_Supermarket_Sales</th>\n",
       "      <th>Product_Type</th>\n",
       "      <th>Product_Weight</th>\n",
       "      <th>Supermarket _Size</th>\n",
       "      <th>Supermarket_Identifier</th>\n",
       "      <th>Supermarket_Location_Type</th>\n",
       "      <th>Supermarket_Opening_Year</th>\n",
       "      <th>Supermarket_Type</th>\n",
       "    </tr>\n",
       "  </thead>\n",
       "  <tbody>\n",
       "    <tr>\n",
       "      <th>4986</th>\n",
       "      <td>Low Fat</td>\n",
       "      <td>NCZ54</td>\n",
       "      <td>410.14</td>\n",
       "      <td>0.082956</td>\n",
       "      <td>NCZ54_CHUKWUDI027</td>\n",
       "      <td>13808.69</td>\n",
       "      <td>Household</td>\n",
       "      <td>NaN</td>\n",
       "      <td>Medium</td>\n",
       "      <td>CHUKWUDI027</td>\n",
       "      <td>Cluster 3</td>\n",
       "      <td>1992</td>\n",
       "      <td>Supermarket Type3</td>\n",
       "    </tr>\n",
       "    <tr>\n",
       "      <th>4987</th>\n",
       "      <td>Low Fat</td>\n",
       "      <td>NCZ54</td>\n",
       "      <td>406.14</td>\n",
       "      <td>0.083528</td>\n",
       "      <td>NCZ54_CHUKWUDI045</td>\n",
       "      <td>5685.93</td>\n",
       "      <td>Household</td>\n",
       "      <td>14.650</td>\n",
       "      <td>NaN</td>\n",
       "      <td>CHUKWUDI045</td>\n",
       "      <td>Cluster 2</td>\n",
       "      <td>2009</td>\n",
       "      <td>Supermarket Type1</td>\n",
       "    </tr>\n",
       "    <tr>\n",
       "      <th>4988</th>\n",
       "      <td>Low Fat</td>\n",
       "      <td>NCZ54</td>\n",
       "      <td>404.89</td>\n",
       "      <td>0.083359</td>\n",
       "      <td>NCZ54_CHUKWUDI046</td>\n",
       "      <td>11778.00</td>\n",
       "      <td>Household</td>\n",
       "      <td>14.650</td>\n",
       "      <td>Small</td>\n",
       "      <td>CHUKWUDI046</td>\n",
       "      <td>Cluster 1</td>\n",
       "      <td>2004</td>\n",
       "      <td>Supermarket Type1</td>\n",
       "    </tr>\n",
       "    <tr>\n",
       "      <th>4989</th>\n",
       "      <td>Low Fat</td>\n",
       "      <td>NCZ54</td>\n",
       "      <td>403.39</td>\n",
       "      <td>0.083489</td>\n",
       "      <td>NCZ54_CHUKWUDI049</td>\n",
       "      <td>17870.07</td>\n",
       "      <td>Household</td>\n",
       "      <td>14.650</td>\n",
       "      <td>Medium</td>\n",
       "      <td>CHUKWUDI049</td>\n",
       "      <td>Cluster 1</td>\n",
       "      <td>2006</td>\n",
       "      <td>Supermarket Type1</td>\n",
       "    </tr>\n",
       "    <tr>\n",
       "      <th>0</th>\n",
       "      <td>Normal Fat</td>\n",
       "      <td>DRA59</td>\n",
       "      <td>459.98</td>\n",
       "      <td>0.214125</td>\n",
       "      <td>DRA59_CHUKWUDI010</td>\n",
       "      <td>NaN</td>\n",
       "      <td>Soft Drinks</td>\n",
       "      <td>8.270</td>\n",
       "      <td>NaN</td>\n",
       "      <td>CHUKWUDI010</td>\n",
       "      <td>Cluster 3</td>\n",
       "      <td>2005</td>\n",
       "      <td>Grocery Store</td>\n",
       "    </tr>\n",
       "    <tr>\n",
       "      <th>1</th>\n",
       "      <td>Normal Fat</td>\n",
       "      <td>DRA59</td>\n",
       "      <td>464.98</td>\n",
       "      <td>0.127821</td>\n",
       "      <td>DRA59_CHUKWUDI013</td>\n",
       "      <td>NaN</td>\n",
       "      <td>Soft Drinks</td>\n",
       "      <td>8.270</td>\n",
       "      <td>High</td>\n",
       "      <td>CHUKWUDI013</td>\n",
       "      <td>Cluster 3</td>\n",
       "      <td>1994</td>\n",
       "      <td>Supermarket Type1</td>\n",
       "    </tr>\n",
       "    <tr>\n",
       "      <th>2</th>\n",
       "      <td>Low Fat</td>\n",
       "      <td>DRB01</td>\n",
       "      <td>477.38</td>\n",
       "      <td>0.082171</td>\n",
       "      <td>DRB01_CHUKWUDI013</td>\n",
       "      <td>NaN</td>\n",
       "      <td>Soft Drinks</td>\n",
       "      <td>7.390</td>\n",
       "      <td>High</td>\n",
       "      <td>CHUKWUDI013</td>\n",
       "      <td>Cluster 3</td>\n",
       "      <td>1994</td>\n",
       "      <td>Supermarket Type1</td>\n",
       "    </tr>\n",
       "    <tr>\n",
       "      <th>3</th>\n",
       "      <td>Normal Fat</td>\n",
       "      <td>DRB13</td>\n",
       "      <td>472.63</td>\n",
       "      <td>0.011791</td>\n",
       "      <td>DRB13_CHUKWUDI010</td>\n",
       "      <td>NaN</td>\n",
       "      <td>Soft Drinks</td>\n",
       "      <td>6.115</td>\n",
       "      <td>NaN</td>\n",
       "      <td>CHUKWUDI010</td>\n",
       "      <td>Cluster 3</td>\n",
       "      <td>2005</td>\n",
       "      <td>Grocery Store</td>\n",
       "    </tr>\n",
       "    <tr>\n",
       "      <th>4</th>\n",
       "      <td>Normal Fat</td>\n",
       "      <td>DRB13</td>\n",
       "      <td>473.13</td>\n",
       "      <td>0.007038</td>\n",
       "      <td>DRB13_CHUKWUDI013</td>\n",
       "      <td>NaN</td>\n",
       "      <td>Soft Drinks</td>\n",
       "      <td>6.115</td>\n",
       "      <td>High</td>\n",
       "      <td>CHUKWUDI013</td>\n",
       "      <td>Cluster 3</td>\n",
       "      <td>1994</td>\n",
       "      <td>Supermarket Type1</td>\n",
       "    </tr>\n",
       "    <tr>\n",
       "      <th>5</th>\n",
       "      <td>Low Fat</td>\n",
       "      <td>DRB25</td>\n",
       "      <td>268.73</td>\n",
       "      <td>0.069853</td>\n",
       "      <td>DRB25_CHUKWUDI017</td>\n",
       "      <td>NaN</td>\n",
       "      <td>Soft Drinks</td>\n",
       "      <td>12.300</td>\n",
       "      <td>NaN</td>\n",
       "      <td>CHUKWUDI017</td>\n",
       "      <td>Cluster 2</td>\n",
       "      <td>2014</td>\n",
       "      <td>Supermarket Type1</td>\n",
       "    </tr>\n",
       "    <tr>\n",
       "      <th>6</th>\n",
       "      <td>Low Fat</td>\n",
       "      <td>DRB25</td>\n",
       "      <td>265.23</td>\n",
       "      <td>0.069123</td>\n",
       "      <td>DRB25_CHUKWUDI027</td>\n",
       "      <td>NaN</td>\n",
       "      <td>Soft Drinks</td>\n",
       "      <td>NaN</td>\n",
       "      <td>Medium</td>\n",
       "      <td>CHUKWUDI027</td>\n",
       "      <td>Cluster 3</td>\n",
       "      <td>1992</td>\n",
       "      <td>Supermarket Type3</td>\n",
       "    </tr>\n",
       "    <tr>\n",
       "      <th>7</th>\n",
       "      <td>Low Fat</td>\n",
       "      <td>DRB25</td>\n",
       "      <td>265.98</td>\n",
       "      <td>0.069447</td>\n",
       "      <td>DRB25_CHUKWUDI035</td>\n",
       "      <td>NaN</td>\n",
       "      <td>Soft Drinks</td>\n",
       "      <td>12.300</td>\n",
       "      <td>Small</td>\n",
       "      <td>CHUKWUDI035</td>\n",
       "      <td>Cluster 2</td>\n",
       "      <td>2011</td>\n",
       "      <td>Supermarket Type1</td>\n",
       "    </tr>\n",
       "    <tr>\n",
       "      <th>8</th>\n",
       "      <td>Normal Fat</td>\n",
       "      <td>DRB48</td>\n",
       "      <td>93.71</td>\n",
       "      <td>0.024994</td>\n",
       "      <td>DRB48_CHUKWUDI017</td>\n",
       "      <td>NaN</td>\n",
       "      <td>Soft Drinks</td>\n",
       "      <td>16.750</td>\n",
       "      <td>NaN</td>\n",
       "      <td>CHUKWUDI017</td>\n",
       "      <td>Cluster 2</td>\n",
       "      <td>2014</td>\n",
       "      <td>Supermarket Type1</td>\n",
       "    </tr>\n",
       "  </tbody>\n",
       "</table>\n",
       "</div>"
      ],
      "text/plain": [
       "     Product_Fat_Content Product_Identifier  Product_Price  \\\n",
       "4986             Low Fat              NCZ54         410.14   \n",
       "4987             Low Fat              NCZ54         406.14   \n",
       "4988             Low Fat              NCZ54         404.89   \n",
       "4989             Low Fat              NCZ54         403.39   \n",
       "0             Normal Fat              DRA59         459.98   \n",
       "1             Normal Fat              DRA59         464.98   \n",
       "2                Low Fat              DRB01         477.38   \n",
       "3             Normal Fat              DRB13         472.63   \n",
       "4             Normal Fat              DRB13         473.13   \n",
       "5                Low Fat              DRB25         268.73   \n",
       "6                Low Fat              DRB25         265.23   \n",
       "7                Low Fat              DRB25         265.98   \n",
       "8             Normal Fat              DRB48          93.71   \n",
       "\n",
       "      Product_Shelf_Visibility Product_Supermarket_Identifier  \\\n",
       "4986                  0.082956              NCZ54_CHUKWUDI027   \n",
       "4987                  0.083528              NCZ54_CHUKWUDI045   \n",
       "4988                  0.083359              NCZ54_CHUKWUDI046   \n",
       "4989                  0.083489              NCZ54_CHUKWUDI049   \n",
       "0                     0.214125              DRA59_CHUKWUDI010   \n",
       "1                     0.127821              DRA59_CHUKWUDI013   \n",
       "2                     0.082171              DRB01_CHUKWUDI013   \n",
       "3                     0.011791              DRB13_CHUKWUDI010   \n",
       "4                     0.007038              DRB13_CHUKWUDI013   \n",
       "5                     0.069853              DRB25_CHUKWUDI017   \n",
       "6                     0.069123              DRB25_CHUKWUDI027   \n",
       "7                     0.069447              DRB25_CHUKWUDI035   \n",
       "8                     0.024994              DRB48_CHUKWUDI017   \n",
       "\n",
       "      Product_Supermarket_Sales Product_Type  Product_Weight  \\\n",
       "4986                   13808.69    Household             NaN   \n",
       "4987                    5685.93    Household          14.650   \n",
       "4988                   11778.00    Household          14.650   \n",
       "4989                   17870.07    Household          14.650   \n",
       "0                           NaN  Soft Drinks           8.270   \n",
       "1                           NaN  Soft Drinks           8.270   \n",
       "2                           NaN  Soft Drinks           7.390   \n",
       "3                           NaN  Soft Drinks           6.115   \n",
       "4                           NaN  Soft Drinks           6.115   \n",
       "5                           NaN  Soft Drinks          12.300   \n",
       "6                           NaN  Soft Drinks             NaN   \n",
       "7                           NaN  Soft Drinks          12.300   \n",
       "8                           NaN  Soft Drinks          16.750   \n",
       "\n",
       "     Supermarket _Size Supermarket_Identifier Supermarket_Location_Type  \\\n",
       "4986            Medium            CHUKWUDI027                 Cluster 3   \n",
       "4987               NaN            CHUKWUDI045                 Cluster 2   \n",
       "4988             Small            CHUKWUDI046                 Cluster 1   \n",
       "4989            Medium            CHUKWUDI049                 Cluster 1   \n",
       "0                  NaN            CHUKWUDI010                 Cluster 3   \n",
       "1                 High            CHUKWUDI013                 Cluster 3   \n",
       "2                 High            CHUKWUDI013                 Cluster 3   \n",
       "3                  NaN            CHUKWUDI010                 Cluster 3   \n",
       "4                 High            CHUKWUDI013                 Cluster 3   \n",
       "5                  NaN            CHUKWUDI017                 Cluster 2   \n",
       "6               Medium            CHUKWUDI027                 Cluster 3   \n",
       "7                Small            CHUKWUDI035                 Cluster 2   \n",
       "8                  NaN            CHUKWUDI017                 Cluster 2   \n",
       "\n",
       "      Supermarket_Opening_Year   Supermarket_Type  \n",
       "4986                      1992  Supermarket Type3  \n",
       "4987                      2009  Supermarket Type1  \n",
       "4988                      2004  Supermarket Type1  \n",
       "4989                      2006  Supermarket Type1  \n",
       "0                         2005      Grocery Store  \n",
       "1                         1994  Supermarket Type1  \n",
       "2                         1994  Supermarket Type1  \n",
       "3                         2005      Grocery Store  \n",
       "4                         1994  Supermarket Type1  \n",
       "5                         2014  Supermarket Type1  \n",
       "6                         1992  Supermarket Type3  \n",
       "7                         2011  Supermarket Type1  \n",
       "8                         2014  Supermarket Type1  "
      ]
     },
     "metadata": {},
     "output_type": "display_data"
    }
   ],
   "source": [
    "'''Merge the dataset'''\n",
    "merged = pd.concat([train_data, test_data])\n",
    "bold('**Merged data:**')\n",
    "display(merged.iloc[4986:4999,:])"
   ]
  },
  {
   "cell_type": "code",
   "execution_count": 8,
   "metadata": {},
   "outputs": [
    {
     "data": {
      "text/plain": [
       "(8522, 13)"
      ]
     },
     "execution_count": 8,
     "metadata": {},
     "output_type": "execute_result"
    }
   ],
   "source": [
    "merged.shape"
   ]
  },
  {
   "cell_type": "markdown",
   "metadata": {},
   "source": [
    "## Numerical Features"
   ]
  },
  {
   "cell_type": "code",
   "execution_count": 11,
   "metadata": {},
   "outputs": [],
   "source": [
    "def abs_bar_labels():\n",
    "    plt.ylabel('Absolute Frequency')\n",
    "    plt.xticks(rotation = 0)\n",
    "    plt.yticks([])\n",
    "    # Set individual bar lebels in absolute number\n",
    "    for x in ax.patches:\n",
    "        ax.annotate(x.get_height(), \n",
    "        (x.get_x() + x.get_width()/2., x.get_height()), ha = 'center', va = 'center', xytext = (0, 7), \n",
    "        textcoords = 'offset points', fontsize = 14, color = 'black')\n",
    "\n",
    "'''#1.Summary statistics with histogram'''\n",
    "def summary_stats_and_hist(variable):\n",
    "    global ax\n",
    "    stats = variable.describe()\n",
    "    ax = variable.plot.hist()\n",
    "    plt.xlabel('%s' %variable.name)\n",
    "    plt.title('Distribution of %s with Histogram' %variable.name)\n",
    "    abs_bar_labels()\n",
    "    print('Summary Statistics of', variable.name, ':')\n",
    "    return display(stats)\n",
    "\n",
    "'''#2.Density plot with skewness.'''\n",
    "def density_plot_and_skewness(variable):\n",
    "    variable.plot.hist(density = True)\n",
    "    variable.plot.kde(style = 'k--')\n",
    "    plt.xlabel('%s'%variable.name)\n",
    "    plt.title('Distribution of %s with Density Plot & Histogram' %variable.name)\n",
    "    print('Skewness of ', variable.name, ':')\n",
    "    skewness = variable.skew()\n",
    "    return display(skewness)"
   ]
  },
  {
   "cell_type": "code",
   "execution_count": 12,
   "metadata": {
    "scrolled": true
   },
   "outputs": [
    {
     "name": "stdout",
     "output_type": "stream",
     "text": [
      "Summary Statistics of Product_Price :\n"
     ]
    },
    {
     "data": {
      "text/plain": [
       "count    8522.000000\n",
       "mean      352.471687\n",
       "std       155.693760\n",
       "min        78.230000\n",
       "25%       234.542500\n",
       "50%       357.450000\n",
       "75%       464.130000\n",
       "max       667.220000\n",
       "Name: Product_Price, dtype: float64"
      ]
     },
     "metadata": {},
     "output_type": "display_data"
    },
    {
     "data": {
      "image/png": "[encoded data removed]",
      "text/plain": [
       "<matplotlib.figure.Figure at 0x403847630>"
      ]
     },
     "metadata": {},
     "output_type": "display_data"
    }
   ],
   "source": [
    "'''Calculate summary statistics of Product_Price with histogram.'''\n",
    "summary_stats_and_hist(merged.Product_Price)"
   ]
  },
  {
   "cell_type": "code",
   "execution_count": 20,
   "metadata": {},
   "outputs": [
    {
     "name": "stdout",
     "output_type": "stream",
     "text": [
      "Skewness of  Product_Price :\n"
     ]
    },
    {
     "data": {
      "text/plain": [
       "0.1273807021624234"
      ]
     },
     "metadata": {},
     "output_type": "display_data"
    },
    {
     "data": {
      "image/png": "[encoded data removed]",
      "text/plain": [
       "<matplotlib.figure.Figure at 0x403bc86a0>"
      ]
     },
     "metadata": {},
     "output_type": "display_data"
    }
   ],
   "source": [
    "'''Plot density plot of Product_Price  and calculate skewness.'''\n",
    "density_plot_and_skewness(merged.Product_Price )"
   ]
  },
  {
   "cell_type": "code",
   "execution_count": 13,
   "metadata": {},
   "outputs": [
    {
     "name": "stdout",
     "output_type": "stream",
     "text": [
      "Summary Statistics of Product_Weight :\n"
     ]
    },
    {
     "data": {
      "text/plain": [
       "count    7059.000000\n",
       "mean       12.857115\n",
       "std         4.643572\n",
       "min         4.555000\n",
       "25%         8.772500\n",
       "50%        12.600000\n",
       "75%        16.850000\n",
       "max        21.350000\n",
       "Name: Product_Weight, dtype: float64"
      ]
     },
     "metadata": {},
     "output_type": "display_data"
    },
    {
     "data": {
      "image/png": "[encoded data removed]",
      "text/plain": [
       "<matplotlib.figure.Figure at 0x4032ceef0>"
      ]
     },
     "metadata": {},
     "output_type": "display_data"
    }
   ],
   "source": [
    "'''Calculate summary statistics of Product_Weight  with histogram.'''\n",
    "summary_stats_and_hist(merged.Product_Weight )"
   ]
  },
  {
   "cell_type": "code",
   "execution_count": 19,
   "metadata": {},
   "outputs": [
    {
     "name": "stdout",
     "output_type": "stream",
     "text": [
      "Skewness of  Product_Weight :\n"
     ]
    },
    {
     "data": {
      "text/plain": [
       "0.08270017233105988"
      ]
     },
     "metadata": {},
     "output_type": "display_data"
    },
    {
     "data": {
      "image/png": "[encoded data removed]",
      "text/plain": [
       "<matplotlib.figure.Figure at 0x402ccd710>"
      ]
     },
     "metadata": {},
     "output_type": "display_data"
    }
   ],
   "source": [
    "'''Plot density plot of Product_Weight  and calculate skewness.'''\n",
    "density_plot_and_skewness(merged.Product_Weight )"
   ]
  },
  {
   "cell_type": "code",
   "execution_count": 14,
   "metadata": {},
   "outputs": [
    {
     "name": "stdout",
     "output_type": "stream",
     "text": [
      "Summary Statistics of Product_Shelf_Visibility :\n"
     ]
    },
    {
     "data": {
      "text/plain": [
       "count    8522.000000\n",
       "mean        0.066134\n",
       "std         0.051600\n",
       "min         0.000000\n",
       "25%         0.026988\n",
       "50%         0.053935\n",
       "75%         0.094594\n",
       "max         0.328391\n",
       "Name: Product_Shelf_Visibility, dtype: float64"
      ]
     },
     "metadata": {},
     "output_type": "display_data"
    },
    {
     "data": {
      "image/png": "[encoded data removed]",
      "text/plain": [
       "<matplotlib.figure.Figure at 0x402c38400>"
      ]
     },
     "metadata": {},
     "output_type": "display_data"
    }
   ],
   "source": [
    "'''Calculate summary statistics of Product_Shelf_Visibility  with histogram.'''\n",
    "summary_stats_and_hist(merged.Product_Shelf_Visibility )"
   ]
  },
  {
   "cell_type": "code",
   "execution_count": 15,
   "metadata": {},
   "outputs": [
    {
     "name": "stdout",
     "output_type": "stream",
     "text": [
      "Skewness of  Product_Shelf_Visibility :\n"
     ]
    },
    {
     "data": {
      "text/plain": [
       "1.1669234106223025"
      ]
     },
     "metadata": {},
     "output_type": "display_data"
    },
    {
     "data": {
      "image/png": "[encoded data removed]",
      "text/plain": [
       "<matplotlib.figure.Figure at 0x40384b9b0>"
      ]
     },
     "metadata": {},
     "output_type": "display_data"
    }
   ],
   "source": [
    "'''Plot density plot of Product_Shelf_Visibility and calculate skewness.'''\n",
    "density_plot_and_skewness(merged.Product_Shelf_Visibility)"
   ]
  },
  {
   "cell_type": "code",
   "execution_count": 21,
   "metadata": {},
   "outputs": [
    {
     "data": {
      "text/markdown": [
       "**Missing values for each variable:**"
      ],
      "text/plain": [
       "<IPython.core.display.Markdown object>"
      ]
     },
     "metadata": {},
     "output_type": "display_data"
    },
    {
     "data": {
      "text/plain": [
       "Product_Fat_Content                  0\n",
       "Product_Identifier                   0\n",
       "Product_Price                        0\n",
       "Product_Shelf_Visibility             0\n",
       "Product_Supermarket_Identifier       0\n",
       "Product_Supermarket_Sales         3532\n",
       "Product_Type                         0\n",
       "Product_Weight                    1463\n",
       "Supermarket _Size                 2409\n",
       "Supermarket_Identifier               0\n",
       "Supermarket_Location_Type            0\n",
       "Supermarket_Opening_Year             0\n",
       "Supermarket_Type                     0\n",
       "dtype: int64"
      ]
     },
     "metadata": {},
     "output_type": "display_data"
    }
   ],
   "source": [
    "\"\"\"Let's count the missing values for each variable.\"\"\"\n",
    "bold('**Missing values for each variable:**')\n",
    "display(merged.isnull().sum())"
   ]
  },
  {
   "cell_type": "code",
   "execution_count": 58,
   "metadata": {},
   "outputs": [],
   "source": [
    "merged.columns = [str.replace(' _', '_') for str in merged.columns]"
   ]
  },
  {
   "cell_type": "code",
   "execution_count": 59,
   "metadata": {},
   "outputs": [
    {
     "data": {
      "text/plain": [
       "Index(['Product_Fat_Content', 'Product_Identifier', 'Product_Price',\n",
       "       'Product_Shelf_Visibility', 'Product_Supermarket_Identifier',\n",
       "       'Product_Supermarket_Sales', 'Product_Type', 'Product_Weight',\n",
       "       'Supermarket_Size', 'Supermarket_Identifier',\n",
       "       'Supermarket_Location_Type', 'Supermarket_Opening_Year',\n",
       "       'Supermarket_Type'],\n",
       "      dtype='object')"
      ]
     },
     "execution_count": 59,
     "metadata": {},
     "output_type": "execute_result"
    }
   ],
   "source": [
    "merged.columns"
   ]
  },
  {
   "cell_type": "code",
   "execution_count": 25,
   "metadata": {},
   "outputs": [],
   "source": [
    "merged['Supermarket_Size'].fillna('NaN', inplace=True)"
   ]
  },
  {
   "cell_type": "code",
   "execution_count": 26,
   "metadata": {},
   "outputs": [],
   "source": [
    "correlation = merged.loc[:, ['Product_Fat_Content', 'Product_Price','Product_Shelf_Visibility', 'Product_Supermarket_Identifier', 'Product_Type', 'Supermarket_Size', 'Supermarket_Location_Type', 'Supermarket_Opening_Year', 'Supermarket_Type']]"
   ]
  },
  {
   "cell_type": "code",
   "execution_count": 27,
   "metadata": {},
   "outputs": [
    {
     "data": {
      "image/png": "[encoded data removed]",
      "text/plain": [
       "<matplotlib.figure.Figure at 0x5a508204a8>"
      ]
     },
     "metadata": {},
     "output_type": "display_data"
    }
   ],
   "source": [
    "\"\"\"Let's plot correlation heatmap to see which variable is highly correlated with Age and if our boxplot interpretation holds true. We need to convert categorical variable into numerical to plot correlation heatmap. So convert categorical variables into numerical.\"\"\"\n",
    "from sklearn.preprocessing import LabelEncoder\n",
    "correlation = correlation.agg(LabelEncoder().fit_transform)\n",
    "correlation['Product_Weight'] = merged.Product_Weight # Inserting Age in dataframe correlation\n",
    "correlation = correlation.set_index('Product_Weight').reset_index() # Move Age at index 0.\n",
    "\n",
    "'''Now create the heatmap correlation.'''\n",
    "sns.heatmap(correlation.corr(), cmap ='BrBG', annot = True)\n",
    "plt.title('Variables correlated with Product_Weight')\n",
    "plt.show()"
   ]
  },
  {
   "cell_type": "code",
   "execution_count": 38,
   "metadata": {},
   "outputs": [
    {
     "name": "stdout",
     "output_type": "stream",
     "text": [
      "Object `transform` not found.\n"
     ]
    }
   ],
   "source": []
  },
  {
   "cell_type": "code",
   "execution_count": null,
   "metadata": {},
   "outputs": [],
   "source": [
    "merged.groupby().transform"
   ]
  },
  {
   "cell_type": "code",
   "execution_count": 76,
   "metadata": {},
   "outputs": [
    {
     "data": {
      "text/html": [
       "<div>\n",
       "<style scoped>\n",
       "    .dataframe tbody tr th:only-of-type {\n",
       "        vertical-align: middle;\n",
       "    }\n",
       "\n",
       "    .dataframe tbody tr th {\n",
       "        vertical-align: top;\n",
       "    }\n",
       "\n",
       "    .dataframe thead th {\n",
       "        text-align: right;\n",
       "    }\n",
       "</style>\n",
       "<table border=\"1\" class=\"dataframe\">\n",
       "  <thead>\n",
       "    <tr style=\"text-align: right;\">\n",
       "      <th></th>\n",
       "      <th>Supermarket_Type</th>\n",
       "      <th>Supermarket_Location_Type</th>\n",
       "      <th>Supermarket_Opening_Year</th>\n",
       "      <th>Supermarket_Opening_Year</th>\n",
       "      <th>Supermarket_Size</th>\n",
       "    </tr>\n",
       "  </thead>\n",
       "  <tbody>\n",
       "    <tr>\n",
       "      <th>0</th>\n",
       "      <td>Grocery Store</td>\n",
       "      <td>Cluster 3</td>\n",
       "      <td>2005</td>\n",
       "      <td>2005</td>\n",
       "      <td>NaN</td>\n",
       "    </tr>\n",
       "    <tr>\n",
       "      <th>1</th>\n",
       "      <td>Supermarket Type1</td>\n",
       "      <td>Cluster 3</td>\n",
       "      <td>1994</td>\n",
       "      <td>1994</td>\n",
       "      <td>High</td>\n",
       "    </tr>\n",
       "    <tr>\n",
       "      <th>2</th>\n",
       "      <td>Supermarket Type1</td>\n",
       "      <td>Cluster 2</td>\n",
       "      <td>2014</td>\n",
       "      <td>2014</td>\n",
       "      <td>NaN</td>\n",
       "    </tr>\n",
       "    <tr>\n",
       "      <th>3</th>\n",
       "      <td>Supermarket Type2</td>\n",
       "      <td>Cluster 3</td>\n",
       "      <td>2016</td>\n",
       "      <td>2016</td>\n",
       "      <td>Medium</td>\n",
       "    </tr>\n",
       "    <tr>\n",
       "      <th>4</th>\n",
       "      <td>Supermarket Type1</td>\n",
       "      <td>Cluster 2</td>\n",
       "      <td>2011</td>\n",
       "      <td>2011</td>\n",
       "      <td>Small</td>\n",
       "    </tr>\n",
       "  </tbody>\n",
       "</table>\n",
       "</div>"
      ],
      "text/plain": [
       "    Supermarket_Type Supermarket_Location_Type  Supermarket_Opening_Year  \\\n",
       "0      Grocery Store                 Cluster 3                      2005   \n",
       "1  Supermarket Type1                 Cluster 3                      1994   \n",
       "2  Supermarket Type1                 Cluster 2                      2014   \n",
       "3  Supermarket Type2                 Cluster 3                      2016   \n",
       "4  Supermarket Type1                 Cluster 2                      2011   \n",
       "\n",
       "   Supermarket_Opening_Year Supermarket_Size  \n",
       "0                      2005              NaN  \n",
       "1                      1994             High  \n",
       "2                      2014              NaN  \n",
       "3                      2016           Medium  \n",
       "4                      2011            Small  "
      ]
     },
     "execution_count": 76,
     "metadata": {},
     "output_type": "execute_result"
    }
   ],
   "source": [
    "merged[['Supermarket_Type','Supermarket_Location_Type','Supermarket_Opening_Year','Supermarket_Opening_Year','Supermarket_Size']].head()"
   ]
  },
  {
   "cell_type": "code",
   "execution_count": 33,
   "metadata": {},
   "outputs": [
    {
     "data": {
      "text/plain": [
       "(array(['Grocery Store', 'Supermarket Type1', 'Supermarket Type2',\n",
       "        'Supermarket Type3'], dtype=object),\n",
       " array(['NaN', 'High', 'Medium', 'Small'], dtype=object))"
      ]
     },
     "execution_count": 33,
     "metadata": {},
     "output_type": "execute_result"
    }
   ],
   "source": [
    "merged['Supermarket_Type'].unique(),merged['Supermarket_Size'].unique()"
   ]
  },
  {
   "cell_type": "code",
   "execution_count": 86,
   "metadata": {},
   "outputs": [
    {
     "data": {
      "text/plain": [
       "Supermarket_Type   Supermarket_Location_Type  Supermarket_Opening_Year  Supermarket_Size\n",
       "Grocery Store      Cluster 1                  1992                      Small               528\n",
       "Supermarket Type1  Cluster 1                  2004                      Small               930\n",
       "                                              2006                      Medium              930\n",
       "                   Cluster 2                  2011                      Small               930\n",
       "                   Cluster 3                  1994                      High                932\n",
       "Supermarket Type2  Cluster 3                  2016                      Medium              928\n",
       "Supermarket Type3  Cluster 3                  1992                      Medium              935\n",
       "Name: Supermarket_Size, dtype: int64"
      ]
     },
     "execution_count": 86,
     "metadata": {},
     "output_type": "execute_result"
    }
   ],
   "source": [
    "merged.groupby(['Supermarket_Type','Supermarket_Location_Type','Supermarket_Opening_Year','Supermarket_Size'])['Supermarket_Size'].count()"
   ]
  },
  {
   "cell_type": "code",
   "execution_count": 60,
   "metadata": {},
   "outputs": [
    {
     "data": {
      "text/html": [
       "<div>\n",
       "<style scoped>\n",
       "    .dataframe tbody tr th:only-of-type {\n",
       "        vertical-align: middle;\n",
       "    }\n",
       "\n",
       "    .dataframe tbody tr th {\n",
       "        vertical-align: top;\n",
       "    }\n",
       "\n",
       "    .dataframe thead th {\n",
       "        text-align: right;\n",
       "    }\n",
       "</style>\n",
       "<table border=\"1\" class=\"dataframe\">\n",
       "  <thead>\n",
       "    <tr style=\"text-align: right;\">\n",
       "      <th></th>\n",
       "      <th>Product_Fat_Content</th>\n",
       "      <th>Product_Identifier</th>\n",
       "      <th>Product_Price</th>\n",
       "      <th>Product_Shelf_Visibility</th>\n",
       "      <th>Product_Supermarket_Identifier</th>\n",
       "      <th>Product_Supermarket_Sales</th>\n",
       "      <th>Product_Type</th>\n",
       "      <th>Product_Weight</th>\n",
       "      <th>Supermarket_Size</th>\n",
       "      <th>Supermarket_Identifier</th>\n",
       "      <th>Supermarket_Location_Type</th>\n",
       "      <th>Supermarket_Opening_Year</th>\n",
       "      <th>Supermarket_Type</th>\n",
       "    </tr>\n",
       "  </thead>\n",
       "  <tbody>\n",
       "    <tr>\n",
       "      <th>0</th>\n",
       "      <td>Low Fat</td>\n",
       "      <td>DRA12</td>\n",
       "      <td>357.54</td>\n",
       "      <td>0.068535</td>\n",
       "      <td>DRA12_CHUKWUDI010</td>\n",
       "      <td>709.08</td>\n",
       "      <td>Soft Drinks</td>\n",
       "      <td>11.60</td>\n",
       "      <td>NaN</td>\n",
       "      <td>CHUKWUDI010</td>\n",
       "      <td>Cluster 3</td>\n",
       "      <td>2005</td>\n",
       "      <td>Grocery Store</td>\n",
       "    </tr>\n",
       "    <tr>\n",
       "      <th>1</th>\n",
       "      <td>Low Fat</td>\n",
       "      <td>DRA12</td>\n",
       "      <td>355.79</td>\n",
       "      <td>0.040912</td>\n",
       "      <td>DRA12_CHUKWUDI013</td>\n",
       "      <td>6381.69</td>\n",
       "      <td>Soft Drinks</td>\n",
       "      <td>11.60</td>\n",
       "      <td>High</td>\n",
       "      <td>CHUKWUDI013</td>\n",
       "      <td>Cluster 3</td>\n",
       "      <td>1994</td>\n",
       "      <td>Supermarket Type1</td>\n",
       "    </tr>\n",
       "    <tr>\n",
       "      <th>2</th>\n",
       "      <td>Low Fat</td>\n",
       "      <td>DRA12</td>\n",
       "      <td>350.79</td>\n",
       "      <td>0.041178</td>\n",
       "      <td>DRA12_CHUKWUDI017</td>\n",
       "      <td>6381.69</td>\n",
       "      <td>Soft Drinks</td>\n",
       "      <td>11.60</td>\n",
       "      <td>NaN</td>\n",
       "      <td>CHUKWUDI017</td>\n",
       "      <td>Cluster 2</td>\n",
       "      <td>2014</td>\n",
       "      <td>Supermarket Type1</td>\n",
       "    </tr>\n",
       "    <tr>\n",
       "      <th>3</th>\n",
       "      <td>Low Fat</td>\n",
       "      <td>DRA12</td>\n",
       "      <td>355.04</td>\n",
       "      <td>0.041113</td>\n",
       "      <td>DRA12_CHUKWUDI018</td>\n",
       "      <td>2127.23</td>\n",
       "      <td>Soft Drinks</td>\n",
       "      <td>11.60</td>\n",
       "      <td>Medium</td>\n",
       "      <td>CHUKWUDI018</td>\n",
       "      <td>Cluster 3</td>\n",
       "      <td>2016</td>\n",
       "      <td>Supermarket Type2</td>\n",
       "    </tr>\n",
       "    <tr>\n",
       "      <th>4</th>\n",
       "      <td>Ultra Low fat</td>\n",
       "      <td>DRA12</td>\n",
       "      <td>354.79</td>\n",
       "      <td>0.000000</td>\n",
       "      <td>DRA12_CHUKWUDI035</td>\n",
       "      <td>2481.77</td>\n",
       "      <td>Soft Drinks</td>\n",
       "      <td>11.60</td>\n",
       "      <td>Small</td>\n",
       "      <td>CHUKWUDI035</td>\n",
       "      <td>Cluster 2</td>\n",
       "      <td>2011</td>\n",
       "      <td>Supermarket Type1</td>\n",
       "    </tr>\n",
       "    <tr>\n",
       "      <th>5</th>\n",
       "      <td>Low Fat</td>\n",
       "      <td>DRA12</td>\n",
       "      <td>354.04</td>\n",
       "      <td>0.000000</td>\n",
       "      <td>DRA12_CHUKWUDI045</td>\n",
       "      <td>9572.54</td>\n",
       "      <td>Soft Drinks</td>\n",
       "      <td>11.60</td>\n",
       "      <td>NaN</td>\n",
       "      <td>CHUKWUDI045</td>\n",
       "      <td>Cluster 2</td>\n",
       "      <td>2009</td>\n",
       "      <td>Supermarket Type1</td>\n",
       "    </tr>\n",
       "    <tr>\n",
       "      <th>6</th>\n",
       "      <td>Normal Fat</td>\n",
       "      <td>DRA24</td>\n",
       "      <td>409.72</td>\n",
       "      <td>0.066832</td>\n",
       "      <td>DRA24_CHUKWUDI010</td>\n",
       "      <td>818.93</td>\n",
       "      <td>Soft Drinks</td>\n",
       "      <td>19.35</td>\n",
       "      <td>NaN</td>\n",
       "      <td>CHUKWUDI010</td>\n",
       "      <td>Cluster 3</td>\n",
       "      <td>2005</td>\n",
       "      <td>Grocery Store</td>\n",
       "    </tr>\n",
       "    <tr>\n",
       "      <th>7</th>\n",
       "      <td>Normal Fat</td>\n",
       "      <td>DRA24</td>\n",
       "      <td>406.22</td>\n",
       "      <td>0.039895</td>\n",
       "      <td>DRA24_CHUKWUDI013</td>\n",
       "      <td>11055.61</td>\n",
       "      <td>Soft Drinks</td>\n",
       "      <td>19.35</td>\n",
       "      <td>High</td>\n",
       "      <td>CHUKWUDI013</td>\n",
       "      <td>Cluster 3</td>\n",
       "      <td>1994</td>\n",
       "      <td>Supermarket Type1</td>\n",
       "    </tr>\n",
       "    <tr>\n",
       "      <th>8</th>\n",
       "      <td>Normal Fat</td>\n",
       "      <td>DRA24</td>\n",
       "      <td>411.72</td>\n",
       "      <td>0.040154</td>\n",
       "      <td>DRA24_CHUKWUDI017</td>\n",
       "      <td>2866.27</td>\n",
       "      <td>Soft Drinks</td>\n",
       "      <td>19.35</td>\n",
       "      <td>NaN</td>\n",
       "      <td>CHUKWUDI017</td>\n",
       "      <td>Cluster 2</td>\n",
       "      <td>2014</td>\n",
       "      <td>Supermarket Type1</td>\n",
       "    </tr>\n",
       "    <tr>\n",
       "      <th>9</th>\n",
       "      <td>Normal Fat</td>\n",
       "      <td>DRA24</td>\n",
       "      <td>408.22</td>\n",
       "      <td>0.069909</td>\n",
       "      <td>DRA24_CHUKWUDI019</td>\n",
       "      <td>1228.40</td>\n",
       "      <td>Soft Drinks</td>\n",
       "      <td>NaN</td>\n",
       "      <td>Small</td>\n",
       "      <td>CHUKWUDI019</td>\n",
       "      <td>Cluster 1</td>\n",
       "      <td>1992</td>\n",
       "      <td>Grocery Store</td>\n",
       "    </tr>\n",
       "  </tbody>\n",
       "</table>\n",
       "</div>"
      ],
      "text/plain": [
       "  Product_Fat_Content Product_Identifier  Product_Price  \\\n",
       "0             Low Fat              DRA12         357.54   \n",
       "1             Low Fat              DRA12         355.79   \n",
       "2             Low Fat              DRA12         350.79   \n",
       "3             Low Fat              DRA12         355.04   \n",
       "4       Ultra Low fat              DRA12         354.79   \n",
       "5             Low Fat              DRA12         354.04   \n",
       "6          Normal Fat              DRA24         409.72   \n",
       "7          Normal Fat              DRA24         406.22   \n",
       "8          Normal Fat              DRA24         411.72   \n",
       "9          Normal Fat              DRA24         408.22   \n",
       "\n",
       "   Product_Shelf_Visibility Product_Supermarket_Identifier  \\\n",
       "0                  0.068535              DRA12_CHUKWUDI010   \n",
       "1                  0.040912              DRA12_CHUKWUDI013   \n",
       "2                  0.041178              DRA12_CHUKWUDI017   \n",
       "3                  0.041113              DRA12_CHUKWUDI018   \n",
       "4                  0.000000              DRA12_CHUKWUDI035   \n",
       "5                  0.000000              DRA12_CHUKWUDI045   \n",
       "6                  0.066832              DRA24_CHUKWUDI010   \n",
       "7                  0.039895              DRA24_CHUKWUDI013   \n",
       "8                  0.040154              DRA24_CHUKWUDI017   \n",
       "9                  0.069909              DRA24_CHUKWUDI019   \n",
       "\n",
       "   Product_Supermarket_Sales Product_Type  Product_Weight Supermarket_Size  \\\n",
       "0                     709.08  Soft Drinks           11.60              NaN   \n",
       "1                    6381.69  Soft Drinks           11.60             High   \n",
       "2                    6381.69  Soft Drinks           11.60              NaN   \n",
       "3                    2127.23  Soft Drinks           11.60           Medium   \n",
       "4                    2481.77  Soft Drinks           11.60            Small   \n",
       "5                    9572.54  Soft Drinks           11.60              NaN   \n",
       "6                     818.93  Soft Drinks           19.35              NaN   \n",
       "7                   11055.61  Soft Drinks           19.35             High   \n",
       "8                    2866.27  Soft Drinks           19.35              NaN   \n",
       "9                    1228.40  Soft Drinks             NaN            Small   \n",
       "\n",
       "  Supermarket_Identifier Supermarket_Location_Type  Supermarket_Opening_Year  \\\n",
       "0            CHUKWUDI010                 Cluster 3                      2005   \n",
       "1            CHUKWUDI013                 Cluster 3                      1994   \n",
       "2            CHUKWUDI017                 Cluster 2                      2014   \n",
       "3            CHUKWUDI018                 Cluster 3                      2016   \n",
       "4            CHUKWUDI035                 Cluster 2                      2011   \n",
       "5            CHUKWUDI045                 Cluster 2                      2009   \n",
       "6            CHUKWUDI010                 Cluster 3                      2005   \n",
       "7            CHUKWUDI013                 Cluster 3                      1994   \n",
       "8            CHUKWUDI017                 Cluster 2                      2014   \n",
       "9            CHUKWUDI019                 Cluster 1                      1992   \n",
       "\n",
       "    Supermarket_Type  \n",
       "0      Grocery Store  \n",
       "1  Supermarket Type1  \n",
       "2  Supermarket Type1  \n",
       "3  Supermarket Type2  \n",
       "4  Supermarket Type1  \n",
       "5  Supermarket Type1  \n",
       "6      Grocery Store  \n",
       "7  Supermarket Type1  \n",
       "8  Supermarket Type1  \n",
       "9      Grocery Store  "
      ]
     },
     "execution_count": 60,
     "metadata": {},
     "output_type": "execute_result"
    }
   ],
   "source": [
    "merged.head(10)"
   ]
  },
  {
   "cell_type": "code",
   "execution_count": 66,
   "metadata": {},
   "outputs": [],
   "source": [
    "train_data['index'] = range(len(train_data))"
   ]
  },
  {
   "cell_type": "code",
   "execution_count": 69,
   "metadata": {},
   "outputs": [],
   "source": [
    "train_data.set_index('index', inplace=True)"
   ]
  },
  {
   "cell_type": "code",
   "execution_count": 70,
   "metadata": {},
   "outputs": [
    {
     "data": {
      "text/html": [
       "<div>\n",
       "<style scoped>\n",
       "    .dataframe tbody tr th:only-of-type {\n",
       "        vertical-align: middle;\n",
       "    }\n",
       "\n",
       "    .dataframe tbody tr th {\n",
       "        vertical-align: top;\n",
       "    }\n",
       "\n",
       "    .dataframe thead th {\n",
       "        text-align: right;\n",
       "    }\n",
       "</style>\n",
       "<table border=\"1\" class=\"dataframe\">\n",
       "  <thead>\n",
       "    <tr style=\"text-align: right;\">\n",
       "      <th></th>\n",
       "      <th>Product_Identifier</th>\n",
       "      <th>Supermarket_Identifier</th>\n",
       "      <th>Product_Supermarket_Identifier</th>\n",
       "      <th>Product_Weight</th>\n",
       "      <th>Product_Fat_Content</th>\n",
       "      <th>Product_Shelf_Visibility</th>\n",
       "      <th>Product_Type</th>\n",
       "      <th>Product_Price</th>\n",
       "      <th>Supermarket_Opening_Year</th>\n",
       "      <th>Supermarket _Size</th>\n",
       "      <th>Supermarket_Location_Type</th>\n",
       "      <th>Supermarket_Type</th>\n",
       "      <th>Product_Supermarket_Sales</th>\n",
       "    </tr>\n",
       "    <tr>\n",
       "      <th>index</th>\n",
       "      <th></th>\n",
       "      <th></th>\n",
       "      <th></th>\n",
       "      <th></th>\n",
       "      <th></th>\n",
       "      <th></th>\n",
       "      <th></th>\n",
       "      <th></th>\n",
       "      <th></th>\n",
       "      <th></th>\n",
       "      <th></th>\n",
       "      <th></th>\n",
       "      <th></th>\n",
       "    </tr>\n",
       "  </thead>\n",
       "  <tbody>\n",
       "    <tr>\n",
       "      <th>0</th>\n",
       "      <td>DRA12</td>\n",
       "      <td>CHUKWUDI010</td>\n",
       "      <td>DRA12_CHUKWUDI010</td>\n",
       "      <td>11.60</td>\n",
       "      <td>Low Fat</td>\n",
       "      <td>0.068535</td>\n",
       "      <td>Soft Drinks</td>\n",
       "      <td>357.54</td>\n",
       "      <td>2005</td>\n",
       "      <td>NaN</td>\n",
       "      <td>Cluster 3</td>\n",
       "      <td>Grocery Store</td>\n",
       "      <td>709.08</td>\n",
       "    </tr>\n",
       "    <tr>\n",
       "      <th>1</th>\n",
       "      <td>DRA12</td>\n",
       "      <td>CHUKWUDI013</td>\n",
       "      <td>DRA12_CHUKWUDI013</td>\n",
       "      <td>11.60</td>\n",
       "      <td>Low Fat</td>\n",
       "      <td>0.040912</td>\n",
       "      <td>Soft Drinks</td>\n",
       "      <td>355.79</td>\n",
       "      <td>1994</td>\n",
       "      <td>High</td>\n",
       "      <td>Cluster 3</td>\n",
       "      <td>Supermarket Type1</td>\n",
       "      <td>6381.69</td>\n",
       "    </tr>\n",
       "    <tr>\n",
       "      <th>2</th>\n",
       "      <td>DRA12</td>\n",
       "      <td>CHUKWUDI017</td>\n",
       "      <td>DRA12_CHUKWUDI017</td>\n",
       "      <td>11.60</td>\n",
       "      <td>Low Fat</td>\n",
       "      <td>0.041178</td>\n",
       "      <td>Soft Drinks</td>\n",
       "      <td>350.79</td>\n",
       "      <td>2014</td>\n",
       "      <td>NaN</td>\n",
       "      <td>Cluster 2</td>\n",
       "      <td>Supermarket Type1</td>\n",
       "      <td>6381.69</td>\n",
       "    </tr>\n",
       "    <tr>\n",
       "      <th>3</th>\n",
       "      <td>DRA12</td>\n",
       "      <td>CHUKWUDI018</td>\n",
       "      <td>DRA12_CHUKWUDI018</td>\n",
       "      <td>11.60</td>\n",
       "      <td>Low Fat</td>\n",
       "      <td>0.041113</td>\n",
       "      <td>Soft Drinks</td>\n",
       "      <td>355.04</td>\n",
       "      <td>2016</td>\n",
       "      <td>Medium</td>\n",
       "      <td>Cluster 3</td>\n",
       "      <td>Supermarket Type2</td>\n",
       "      <td>2127.23</td>\n",
       "    </tr>\n",
       "    <tr>\n",
       "      <th>4</th>\n",
       "      <td>DRA12</td>\n",
       "      <td>CHUKWUDI035</td>\n",
       "      <td>DRA12_CHUKWUDI035</td>\n",
       "      <td>11.60</td>\n",
       "      <td>Ultra Low fat</td>\n",
       "      <td>0.000000</td>\n",
       "      <td>Soft Drinks</td>\n",
       "      <td>354.79</td>\n",
       "      <td>2011</td>\n",
       "      <td>Small</td>\n",
       "      <td>Cluster 2</td>\n",
       "      <td>Supermarket Type1</td>\n",
       "      <td>2481.77</td>\n",
       "    </tr>\n",
       "    <tr>\n",
       "      <th>5</th>\n",
       "      <td>DRA12</td>\n",
       "      <td>CHUKWUDI045</td>\n",
       "      <td>DRA12_CHUKWUDI045</td>\n",
       "      <td>11.60</td>\n",
       "      <td>Low Fat</td>\n",
       "      <td>0.000000</td>\n",
       "      <td>Soft Drinks</td>\n",
       "      <td>354.04</td>\n",
       "      <td>2009</td>\n",
       "      <td>NaN</td>\n",
       "      <td>Cluster 2</td>\n",
       "      <td>Supermarket Type1</td>\n",
       "      <td>9572.54</td>\n",
       "    </tr>\n",
       "    <tr>\n",
       "      <th>6</th>\n",
       "      <td>DRA24</td>\n",
       "      <td>CHUKWUDI010</td>\n",
       "      <td>DRA24_CHUKWUDI010</td>\n",
       "      <td>19.35</td>\n",
       "      <td>Normal Fat</td>\n",
       "      <td>0.066832</td>\n",
       "      <td>Soft Drinks</td>\n",
       "      <td>409.72</td>\n",
       "      <td>2005</td>\n",
       "      <td>NaN</td>\n",
       "      <td>Cluster 3</td>\n",
       "      <td>Grocery Store</td>\n",
       "      <td>818.93</td>\n",
       "    </tr>\n",
       "    <tr>\n",
       "      <th>7</th>\n",
       "      <td>DRA24</td>\n",
       "      <td>CHUKWUDI013</td>\n",
       "      <td>DRA24_CHUKWUDI013</td>\n",
       "      <td>19.35</td>\n",
       "      <td>Normal Fat</td>\n",
       "      <td>0.039895</td>\n",
       "      <td>Soft Drinks</td>\n",
       "      <td>406.22</td>\n",
       "      <td>1994</td>\n",
       "      <td>High</td>\n",
       "      <td>Cluster 3</td>\n",
       "      <td>Supermarket Type1</td>\n",
       "      <td>11055.61</td>\n",
       "    </tr>\n",
       "    <tr>\n",
       "      <th>8</th>\n",
       "      <td>DRA24</td>\n",
       "      <td>CHUKWUDI017</td>\n",
       "      <td>DRA24_CHUKWUDI017</td>\n",
       "      <td>19.35</td>\n",
       "      <td>Normal Fat</td>\n",
       "      <td>0.040154</td>\n",
       "      <td>Soft Drinks</td>\n",
       "      <td>411.72</td>\n",
       "      <td>2014</td>\n",
       "      <td>NaN</td>\n",
       "      <td>Cluster 2</td>\n",
       "      <td>Supermarket Type1</td>\n",
       "      <td>2866.27</td>\n",
       "    </tr>\n",
       "    <tr>\n",
       "      <th>9</th>\n",
       "      <td>DRA24</td>\n",
       "      <td>CHUKWUDI019</td>\n",
       "      <td>DRA24_CHUKWUDI019</td>\n",
       "      <td>NaN</td>\n",
       "      <td>Normal Fat</td>\n",
       "      <td>0.069909</td>\n",
       "      <td>Soft Drinks</td>\n",
       "      <td>408.22</td>\n",
       "      <td>1992</td>\n",
       "      <td>Small</td>\n",
       "      <td>Cluster 1</td>\n",
       "      <td>Grocery Store</td>\n",
       "      <td>1228.40</td>\n",
       "    </tr>\n",
       "  </tbody>\n",
       "</table>\n",
       "</div>"
      ],
      "text/plain": [
       "      Product_Identifier Supermarket_Identifier  \\\n",
       "index                                             \n",
       "0                  DRA12            CHUKWUDI010   \n",
       "1                  DRA12            CHUKWUDI013   \n",
       "2                  DRA12            CHUKWUDI017   \n",
       "3                  DRA12            CHUKWUDI018   \n",
       "4                  DRA12            CHUKWUDI035   \n",
       "5                  DRA12            CHUKWUDI045   \n",
       "6                  DRA24            CHUKWUDI010   \n",
       "7                  DRA24            CHUKWUDI013   \n",
       "8                  DRA24            CHUKWUDI017   \n",
       "9                  DRA24            CHUKWUDI019   \n",
       "\n",
       "      Product_Supermarket_Identifier  Product_Weight Product_Fat_Content  \\\n",
       "index                                                                      \n",
       "0                  DRA12_CHUKWUDI010           11.60             Low Fat   \n",
       "1                  DRA12_CHUKWUDI013           11.60             Low Fat   \n",
       "2                  DRA12_CHUKWUDI017           11.60             Low Fat   \n",
       "3                  DRA12_CHUKWUDI018           11.60             Low Fat   \n",
       "4                  DRA12_CHUKWUDI035           11.60       Ultra Low fat   \n",
       "5                  DRA12_CHUKWUDI045           11.60             Low Fat   \n",
       "6                  DRA24_CHUKWUDI010           19.35          Normal Fat   \n",
       "7                  DRA24_CHUKWUDI013           19.35          Normal Fat   \n",
       "8                  DRA24_CHUKWUDI017           19.35          Normal Fat   \n",
       "9                  DRA24_CHUKWUDI019             NaN          Normal Fat   \n",
       "\n",
       "       Product_Shelf_Visibility Product_Type  Product_Price  \\\n",
       "index                                                         \n",
       "0                      0.068535  Soft Drinks         357.54   \n",
       "1                      0.040912  Soft Drinks         355.79   \n",
       "2                      0.041178  Soft Drinks         350.79   \n",
       "3                      0.041113  Soft Drinks         355.04   \n",
       "4                      0.000000  Soft Drinks         354.79   \n",
       "5                      0.000000  Soft Drinks         354.04   \n",
       "6                      0.066832  Soft Drinks         409.72   \n",
       "7                      0.039895  Soft Drinks         406.22   \n",
       "8                      0.040154  Soft Drinks         411.72   \n",
       "9                      0.069909  Soft Drinks         408.22   \n",
       "\n",
       "       Supermarket_Opening_Year Supermarket _Size Supermarket_Location_Type  \\\n",
       "index                                                                         \n",
       "0                          2005               NaN                 Cluster 3   \n",
       "1                          1994              High                 Cluster 3   \n",
       "2                          2014               NaN                 Cluster 2   \n",
       "3                          2016            Medium                 Cluster 3   \n",
       "4                          2011             Small                 Cluster 2   \n",
       "5                          2009               NaN                 Cluster 2   \n",
       "6                          2005               NaN                 Cluster 3   \n",
       "7                          1994              High                 Cluster 3   \n",
       "8                          2014               NaN                 Cluster 2   \n",
       "9                          1992             Small                 Cluster 1   \n",
       "\n",
       "        Supermarket_Type  Product_Supermarket_Sales  \n",
       "index                                                \n",
       "0          Grocery Store                     709.08  \n",
       "1      Supermarket Type1                    6381.69  \n",
       "2      Supermarket Type1                    6381.69  \n",
       "3      Supermarket Type2                    2127.23  \n",
       "4      Supermarket Type1                    2481.77  \n",
       "5      Supermarket Type1                    9572.54  \n",
       "6          Grocery Store                     818.93  \n",
       "7      Supermarket Type1                   11055.61  \n",
       "8      Supermarket Type1                    2866.27  \n",
       "9          Grocery Store                    1228.40  "
      ]
     },
     "execution_count": 70,
     "metadata": {},
     "output_type": "execute_result"
    }
   ],
   "source": [
    "train_data.head(10)"
   ]
  },
  {
   "cell_type": "code",
   "execution_count": 71,
   "metadata": {},
   "outputs": [
    {
     "ename": "InvalidIndexError",
     "evalue": "Reindexing only valid with uniquely valued Index objects",
     "output_type": "error",
     "traceback": [
      "\u001b[1;31m---------------------------------------------------------------------------\u001b[0m",
      "\u001b[1;31mInvalidIndexError\u001b[0m                         Traceback (most recent call last)",
      "\u001b[1;32m<ipython-input-71-09ea8ab1d4e8>\u001b[0m in \u001b[0;36m<module>\u001b[1;34m()\u001b[0m\n\u001b[1;32m----> 1\u001b[1;33m \u001b[0mtrain_data\u001b[0m\u001b[1;33m.\u001b[0m\u001b[0mloc\u001b[0m\u001b[1;33m[\u001b[0m\u001b[0mtrain_data\u001b[0m\u001b[1;33m.\u001b[0m\u001b[0mProduct_Weight\u001b[0m\u001b[1;33m.\u001b[0m\u001b[0misnull\u001b[0m\u001b[1;33m(\u001b[0m\u001b[1;33m)\u001b[0m\u001b[1;33m,\u001b[0m \u001b[1;34m'Product_Weight'\u001b[0m\u001b[1;33m]\u001b[0m \u001b[1;33m=\u001b[0m \u001b[0mtrain_data\u001b[0m\u001b[1;33m.\u001b[0m\u001b[0mloc\u001b[0m\u001b[1;33m[\u001b[0m\u001b[0mtrain_data\u001b[0m\u001b[1;33m.\u001b[0m\u001b[0mProduct_Weight\u001b[0m\u001b[1;33m.\u001b[0m\u001b[0misnull\u001b[0m\u001b[1;33m(\u001b[0m\u001b[1;33m)\u001b[0m\u001b[1;33m,\u001b[0m \u001b[1;34m'Product_Identifier'\u001b[0m\u001b[1;33m]\u001b[0m\u001b[1;33m.\u001b[0m\u001b[0mmap\u001b[0m\u001b[1;33m(\u001b[0m\u001b[0mtrain_data\u001b[0m\u001b[1;33m.\u001b[0m\u001b[0mloc\u001b[0m\u001b[1;33m[\u001b[0m\u001b[0mtrain_data\u001b[0m\u001b[1;33m.\u001b[0m\u001b[0mProduct_Weight\u001b[0m\u001b[1;33m.\u001b[0m\u001b[0mnotnull\u001b[0m\u001b[1;33m(\u001b[0m\u001b[1;33m)\u001b[0m\u001b[1;33m]\u001b[0m\u001b[1;33m.\u001b[0m\u001b[0mset_index\u001b[0m\u001b[1;33m(\u001b[0m\u001b[1;34m'Product_Identifier'\u001b[0m\u001b[1;33m)\u001b[0m\u001b[1;33m[\u001b[0m\u001b[1;34m'Product_Weight'\u001b[0m\u001b[1;33m]\u001b[0m\u001b[1;33m)\u001b[0m\u001b[1;33m\u001b[0m\u001b[0m\n\u001b[0m",
      "\u001b[1;32m~\\Anaconda3\\lib\\site-packages\\pandas\\core\\series.py\u001b[0m in \u001b[0;36mmap\u001b[1;34m(self, arg, na_action)\u001b[0m\n\u001b[0;32m   2348\u001b[0m         \u001b[1;32mif\u001b[0m \u001b[0misinstance\u001b[0m\u001b[1;33m(\u001b[0m\u001b[0marg\u001b[0m\u001b[1;33m,\u001b[0m \u001b[0mSeries\u001b[0m\u001b[1;33m)\u001b[0m\u001b[1;33m:\u001b[0m\u001b[1;33m\u001b[0m\u001b[0m\n\u001b[0;32m   2349\u001b[0m             \u001b[1;31m# arg is a Series\u001b[0m\u001b[1;33m\u001b[0m\u001b[1;33m\u001b[0m\u001b[0m\n\u001b[1;32m-> 2350\u001b[1;33m             \u001b[0mindexer\u001b[0m \u001b[1;33m=\u001b[0m \u001b[0marg\u001b[0m\u001b[1;33m.\u001b[0m\u001b[0mindex\u001b[0m\u001b[1;33m.\u001b[0m\u001b[0mget_indexer\u001b[0m\u001b[1;33m(\u001b[0m\u001b[0mvalues\u001b[0m\u001b[1;33m)\u001b[0m\u001b[1;33m\u001b[0m\u001b[0m\n\u001b[0m\u001b[0;32m   2351\u001b[0m             \u001b[0mnew_values\u001b[0m \u001b[1;33m=\u001b[0m \u001b[0malgorithms\u001b[0m\u001b[1;33m.\u001b[0m\u001b[0mtake_1d\u001b[0m\u001b[1;33m(\u001b[0m\u001b[0marg\u001b[0m\u001b[1;33m.\u001b[0m\u001b[0m_values\u001b[0m\u001b[1;33m,\u001b[0m \u001b[0mindexer\u001b[0m\u001b[1;33m)\u001b[0m\u001b[1;33m\u001b[0m\u001b[0m\n\u001b[0;32m   2352\u001b[0m         \u001b[1;32melse\u001b[0m\u001b[1;33m:\u001b[0m\u001b[1;33m\u001b[0m\u001b[0m\n",
      "\u001b[1;32m~\\Anaconda3\\lib\\site-packages\\pandas\\core\\indexes\\base.py\u001b[0m in \u001b[0;36mget_indexer\u001b[1;34m(self, target, method, limit, tolerance)\u001b[0m\n\u001b[0;32m   2685\u001b[0m \u001b[1;33m\u001b[0m\u001b[0m\n\u001b[0;32m   2686\u001b[0m         \u001b[1;32mif\u001b[0m \u001b[1;32mnot\u001b[0m \u001b[0mself\u001b[0m\u001b[1;33m.\u001b[0m\u001b[0mis_unique\u001b[0m\u001b[1;33m:\u001b[0m\u001b[1;33m\u001b[0m\u001b[0m\n\u001b[1;32m-> 2687\u001b[1;33m             raise InvalidIndexError('Reindexing only valid with uniquely'\n\u001b[0m\u001b[0;32m   2688\u001b[0m                                     ' valued Index objects')\n\u001b[0;32m   2689\u001b[0m \u001b[1;33m\u001b[0m\u001b[0m\n",
      "\u001b[1;31mInvalidIndexError\u001b[0m: Reindexing only valid with uniquely valued Index objects"
     ]
    }
   ],
   "source": [
    "train_data.loc[train_data.Product_Weight.isnull(), 'Product_Weight'] = train_data.loc[train_data.Product_Weight.isnull(), 'Product_Identifier'].map(train_data.loc[train_data.Product_Weight.notnull()].set_index('Product_Identifier')['Product_Weight'])"
   ]
  },
  {
   "cell_type": "code",
   "execution_count": null,
   "metadata": {},
   "outputs": [],
   "source": []
  },
  {
   "cell_type": "code",
   "execution_count": null,
   "metadata": {},
   "outputs": [],
   "source": [
    "merged.head(10)"
   ]
  }
 ],
 "metadata": {
  "kernelspec": {
   "display_name": "Python 3",
   "language": "python",
   "name": "python3"
  },
  "language_info": {
   "codemirror_mode": {
    "name": "ipython",
    "version": 3
   },
   "file_extension": ".py",
   "mimetype": "text/x-python",
   "name": "python",
   "nbconvert_exporter": "python",
   "pygments_lexer": "ipython3",
   "version": "3.6.4"
  }
 },
 "nbformat": 4,
 "nbformat_minor": 2
}
